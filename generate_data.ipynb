{
 "cells": [
  {
   "cell_type": "markdown",
   "metadata": {},
   "source": [
    "# Generate Data and Train Model\n",
    "\n",
    "This notebook will generate a dataset of noisy images of playing cards (J, Q, K), train a model using these images, and plot the learning curve. The model and dataset will be tracked using DVC (Data Version Control).\n",
    "\n",
    "## Table of Contents\n",
    "1. [Setup](#setup)\n",
    "2. [Generate Dataset](#generate-dataset)\n",
    "3. [Train Model](#train-model)\n",
    "4. [Plot Learning Curve](#plot-learning-curve)\n",
    "5. [Save Model and Dataset](#save-model-and-dataset)\n",
    "6. [Conclusion](#conclusion)\n",
    "\n",
    "## Setup\n",
    "First, ensure you have the necessary libraries installed. You may need to install DVC and scikit-learn if you haven't already:\n",
    "```bash\n",
    "conda install -c conda-forge dvc\n",
    "conda install scikit-learn\n",
    "```\n",
    "\n",
    "### Import Required Libraries"
   ]
  },
  {
   "cell_type": "code",
   "execution_count": 2,
   "metadata": {},
   "outputs": [],
   "source": [
    "import os\n",
    "import matplotlib.pyplot as plt # type: ignore\n",
    "from model import build_model, train_model\n",
    "from data_sets import generate_data_set"
   ]
  },
  {
   "cell_type": "markdown",
   "metadata": {},
   "source": [
    "### Configuration\n",
    "Set paths and parameters for the data generation and model training"
   ]
  },
  {
   "cell_type": "code",
   "execution_count": null,
   "metadata": {},
   "outputs": [],
   "source": [
    "# Configuration\n",
    "N_SAMPLES = 1000  # Number of samples to generate\n",
    "NOISE_LEVELS = [0.0, 0.2, 0.5, 0.8]  # Different noise levels to test\n",
    "MODEL_DIR = 'models'\n",
    "DATASET_DIR = 'datasets'\n",
    "\n",
    "# Create directories for saving models and datasets\n",
    "os.makedirs(MODEL_DIR, exist_ok=True)\n",
    "os.makedirs(DATASET_DIR, exist_ok=True)"
   ]
  },
  {
   "cell_type": "markdown",
   "metadata": {},
   "source": [
    "## Generate Dataset\n",
    "### Generate Images with Different Noise Levels\n",
    "For each noise level, generate a dataset of images."
   ]
  },
  {
   "cell_type": "code",
   "execution_count": null,
   "metadata": {},
   "outputs": [],
   "source": [
    "for noise_level in NOISE_LEVELS:\n",
    "    noise_level_str = str(noise_level).replace('.', '_')  # Replace decimal point for file naming\n",
    "    dataset_path = os.path.join(DATASET_DIR, f\"dataset_noise_{noise_level_str}\")\n",
    "    generate_data_set(N_SAMPLES, dataset_path)"
   ]
  },
  {
   "cell_type": "markdown",
   "metadata": {},
   "source": [
    "## Train Model\n",
    "### Training Function\n",
    "Train the model on the generated datasets and store the training history."
   ]
  },
  {
   "cell_type": "code",
   "execution_count": null,
   "metadata": {},
   "outputs": [],
   "source": [
    "training_histories = {}  # Store training histories for each noise level\n",
    "\n",
    "for noise_level in NOISE_LEVELS:\n",
    "    noise_level_str = str(noise_level).replace('.', '_')  # For consistent naming\n",
    "    dataset_path = os.path.join(DATASET_DIR, f\"dataset_noise_{noise_level_str}\")\n",
    "    \n",
    "    model = build_model()  # Build a new model\n",
    "    history = train_model(model, n_validation=200, write_to_file=True)\n",
    "    \n",
    "    # Save the trained model\n",
    "    model.save(os.path.join(MODEL_DIR, f\"model_noise_{noise_level_str}.h5\"))\n",
    "    \n",
    "    # Store history\n",
    "    training_histories[noise_level_str] = history.history"
   ]
  },
  {
   "cell_type": "markdown",
   "metadata": {},
   "source": [
    "## Plot Learning Curve\n",
    "### Visualize Training History\n",
    "Plot the learning curve for accuracy and loss over epochs for each noise level."
   ]
  },
  {
   "cell_type": "code",
   "execution_count": null,
   "metadata": {},
   "outputs": [],
   "source": [
    "plt.figure(figsize=(12, 6))\n",
    "\n",
    "for noise_level_str, history in training_histories.items():\n",
    "    plt.plot(history['accuracy'], label=f'Accuracy (Noise {noise_level_str})')\n",
    "    plt.plot(history['loss'], label=f'Loss (Noise {noise_level_str})')\n",
    "\n",
    "plt.title('Learning Curves for Different Noise Levels')\n",
    "plt.xlabel('Epochs')\n",
    "plt.ylabel('Value')\n",
    "plt.legend()\n",
    "plt.grid(True)\n",
    "plt.savefig('learning_curve.png')  # Save the learning curve figure\n",
    "plt.show()"
   ]
  },
  {
   "cell_type": "markdown",
   "metadata": {},
   "source": [
    "## Save Model and Dataset\n",
    "### DVC Tracking\n",
    "Use DVC to track the datasets and models."
   ]
  },
  {
   "cell_type": "code",
   "execution_count": null,
   "metadata": {},
   "outputs": [],
   "source": [
    "# Initialize DVC if not already done\n",
    "!dvc init\n",
    "\n",
    "# Add dataset and model to DVC\n",
    "!dvc add datasets\n",
    "!dvc add models"
   ]
  },
  {
   "cell_type": "markdown",
   "metadata": {},
   "source": [
    "### Commit Changes\n",
    "Commit the changes to DVC to track versions."
   ]
  },
  {
   "cell_type": "code",
   "execution_count": null,
   "metadata": {},
   "outputs": [],
   "source": [
    "# Commit changes\n",
    "!git add .dvc .gitignore\n",
    "!git commit -m \"Track datasets and models with DVC\""
   ]
  },
  {
   "cell_type": "markdown",
   "metadata": {},
   "source": [
    "## Conclusion\n",
    "In this notebook, we generated a dataset of noisy card images, trained a model on the generated images, and plotted the learning curves. The models and datasets were saved in structured directories and tracked using DVC for version control.\n",
    "\n",
    "### Explanation of Each Section\n",
    "- **Setup**: Initializes the necessary libraries and configuration settings, including directories for datasets and models.\n",
    "- **Generate Dataset**: Loops through different noise levels to generate datasets, saving each in a separate folder.\n",
    "- **Train Model**: Builds and trains a model for each noise level, saving the model files with appropriate names.\n",
    "- **Plot Learning Curve**: Plots accuracy and loss curves for each noise level and saves the figure.\n",
    "- **Save Model and Dataset**: Shows how to use DVC to track datasets and models, including initializing DVC, adding files, and committing changes."
   ]
  }
 ],
 "metadata": {
  "kernelspec": {
   "display_name": "pokerbot39",
   "language": "python",
   "name": "python3"
  },
  "language_info": {
   "codemirror_mode": {
    "name": "ipython",
    "version": 3
   },
   "file_extension": ".py",
   "mimetype": "text/x-python",
   "name": "python",
   "nbconvert_exporter": "python",
   "pygments_lexer": "ipython3",
   "version": "3.9.19"
  }
 },
 "nbformat": 4,
 "nbformat_minor": 2
}
