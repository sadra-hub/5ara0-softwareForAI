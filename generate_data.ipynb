{
 "cells": [
  {
   "cell_type": "markdown",
   "metadata": {},
   "source": [
    "# Generate Data and Train Model\n",
    "\n",
    "This notebook will generate a dataset of noisy images of playing cards (J, Q, K), train a model using these images, and plot the learning curve. The model and dataset will be tracked using DVC (Data Version Control).\n",
    "\n",
    "## Table of Contents\n",
    "1. [Setup](#setup)\n",
    "2. [Generate Dataset](#generate-dataset)\n",
    "3. [Train Model](#train-model)\n",
    "4. [Plot Learning Curve](#plot-learning-curve)\n",
    "5. [Save Model and Dataset](#save-model-and-dataset)\n",
    "6. [Conclusion](#conclusion)\n",
    "\n",
    "## Setup\n",
    "First, ensure you have the necessary libraries installed. You may need to install DVC and scikit-learn if you haven't already:\n",
    "```bash\n",
    "conda install -c conda-forge dvc\n",
    "conda install scikit-learn\n",
    "```\n",
    "\n",
    "### Import Required Libraries"
   ]
  },
  {
   "cell_type": "code",
   "execution_count": 1,
   "metadata": {},
   "outputs": [],
   "source": [
    "import os\n",
    "import matplotlib.pyplot as plt # type: ignore\n",
    "from model import build_model, train_model\n",
    "from data_sets import generate_data_set, TRAINING_IMAGE_DIR, TEST_IMAGE_DIR\n"
   ]
  },
  {
   "cell_type": "markdown",
   "metadata": {},
   "source": [
    "### Configuration\n",
    "Set paths and parameters for the data generation and model training"
   ]
  },
  {
   "cell_type": "code",
   "execution_count": 2,
   "metadata": {},
   "outputs": [],
   "source": [
    "# Configuration\n",
    "N_SAMPLES = 1000  # Number of samples to generate\n",
    "MODEL_DIR = 'models'\n",
    "DATASET_DIR = 'data_sets'\n",
    "\n",
    "# Create directories for saving models and datasets\n",
    "os.makedirs(MODEL_DIR, exist_ok=True)\n",
    "os.makedirs(DATASET_DIR, exist_ok=True)"
   ]
  },
  {
   "cell_type": "markdown",
   "metadata": {},
   "source": [
    "## Generate Dataset\n",
    "### Generate Testing and Training Images\n",
    "Generate a dataset of images."
   ]
  },
  {
   "cell_type": "code",
   "execution_count": 3,
   "metadata": {},
   "outputs": [],
   "source": [
    "dataset_path = os.path.join(DATASET_DIR,TRAINING_IMAGE_DIR)\n",
    "generate_data_set(N_SAMPLES, dataset_path)\n",
    "\n",
    "dataset_path = os.path.join(DATASET_DIR,TEST_IMAGE_DIR)\n",
    "generate_data_set(N_SAMPLES, dataset_path)\n"
   ]
  },
  {
   "cell_type": "markdown",
   "metadata": {},
   "source": [
    "## Train Model\n",
    "### Training Function\n",
    "Train the model on the generated datasets."
   ]
  },
  {
   "cell_type": "code",
   "execution_count": 4,
   "metadata": {},
   "outputs": [
    {
     "name": "stderr",
     "output_type": "stream",
     "text": [
      "/Users/sadra/miniconda3/envs/pokerbot39/lib/python3.9/site-packages/keras/src/layers/convolutional/base_conv.py:107: UserWarning: Do not pass an `input_shape`/`input_dim` argument to a layer. When using Sequential models, prefer using an `Input(shape)` object as the first layer in the model instead.\n",
      "  super().__init__(activity_regularizer=activity_regularizer, **kwargs)\n"
     ]
    },
    {
     "name": "stdout",
     "output_type": "stream",
     "text": [
      "Epoch 1/10\n",
      "\u001b[1m85/85\u001b[0m \u001b[32m━━━━━━━━━━━━━━━━━━━━\u001b[0m\u001b[37m\u001b[0m \u001b[1m2s\u001b[0m 10ms/step - accuracy: 0.3317 - loss: 1.0992 - val_accuracy: 0.3600 - val_loss: 1.0982\n",
      "Epoch 2/10\n",
      "\u001b[1m85/85\u001b[0m \u001b[32m━━━━━━━━━━━━━━━━━━━━\u001b[0m\u001b[37m\u001b[0m \u001b[1m1s\u001b[0m 9ms/step - accuracy: 0.3512 - loss: 1.0983 - val_accuracy: 0.3600 - val_loss: 1.0958\n",
      "Epoch 3/10\n",
      "\u001b[1m85/85\u001b[0m \u001b[32m━━━━━━━━━━━━━━━━━━━━\u001b[0m\u001b[37m\u001b[0m \u001b[1m1s\u001b[0m 9ms/step - accuracy: 0.3561 - loss: 1.0914 - val_accuracy: 0.4250 - val_loss: 1.0527\n",
      "Epoch 4/10\n",
      "\u001b[1m85/85\u001b[0m \u001b[32m━━━━━━━━━━━━━━━━━━━━\u001b[0m\u001b[37m\u001b[0m \u001b[1m1s\u001b[0m 9ms/step - accuracy: 0.6442 - loss: 0.9681 - val_accuracy: 0.9200 - val_loss: 0.6177\n",
      "Epoch 5/10\n",
      "\u001b[1m85/85\u001b[0m \u001b[32m━━━━━━━━━━━━━━━━━━━━\u001b[0m\u001b[37m\u001b[0m \u001b[1m1s\u001b[0m 9ms/step - accuracy: 0.9263 - loss: 0.4658 - val_accuracy: 0.9200 - val_loss: 0.2764\n",
      "Epoch 6/10\n",
      "\u001b[1m85/85\u001b[0m \u001b[32m━━━━━━━━━━━━━━━━━━━━\u001b[0m\u001b[37m\u001b[0m \u001b[1m1s\u001b[0m 9ms/step - accuracy: 0.9573 - loss: 0.2071 - val_accuracy: 0.9500 - val_loss: 0.2038\n",
      "Epoch 7/10\n",
      "\u001b[1m85/85\u001b[0m \u001b[32m━━━━━━━━━━━━━━━━━━━━\u001b[0m\u001b[37m\u001b[0m \u001b[1m1s\u001b[0m 9ms/step - accuracy: 0.9720 - loss: 0.1414 - val_accuracy: 0.9500 - val_loss: 0.1783\n",
      "Epoch 8/10\n",
      "\u001b[1m85/85\u001b[0m \u001b[32m━━━━━━━━━━━━━━━━━━━━\u001b[0m\u001b[37m\u001b[0m \u001b[1m1s\u001b[0m 9ms/step - accuracy: 0.9590 - loss: 0.1234 - val_accuracy: 0.9450 - val_loss: 0.1521\n",
      "Epoch 9/10\n",
      "\u001b[1m85/85\u001b[0m \u001b[32m━━━━━━━━━━━━━━━━━━━━\u001b[0m\u001b[37m\u001b[0m \u001b[1m1s\u001b[0m 9ms/step - accuracy: 0.9708 - loss: 0.1052 - val_accuracy: 0.9550 - val_loss: 0.1362\n",
      "Epoch 10/10\n",
      "\u001b[1m85/85\u001b[0m \u001b[32m━━━━━━━━━━━━━━━━━━━━\u001b[0m\u001b[37m\u001b[0m \u001b[1m1s\u001b[0m 9ms/step - accuracy: 0.9711 - loss: 0.0928 - val_accuracy: 0.9500 - val_loss: 0.1448\n"
     ]
    }
   ],
   "source": [
    "model = build_model()  # Build a new model        \n",
    "trained_model = train_model(model, n_validation=200, write_to_file=True) # Return trained model\n"
   ]
  },
  {
   "cell_type": "markdown",
   "metadata": {},
   "source": [
    "## Plot Learning Curve\n",
    "### Visualize Training History\n",
    "Plot the learning curve for accuracy and loss over epochs for each noise level."
   ]
  },
  {
   "cell_type": "code",
   "execution_count": null,
   "metadata": {},
   "outputs": [],
   "source": [
    "plt.figure(figsize=(12, 6))\n",
    "\n",
    "for noise_level_str, history in training_histories.items():\n",
    "    plt.plot(history['accuracy'], label=f'Accuracy (Noise {noise_level_str})')\n",
    "    plt.plot(history['loss'], label=f'Loss (Noise {noise_level_str})')\n",
    "\n",
    "plt.title('Learning Curves for Different Noise Levels')\n",
    "plt.xlabel('Epochs')\n",
    "plt.ylabel('Value')\n",
    "plt.legend()\n",
    "plt.grid(True)\n",
    "plt.savefig('learning_curve.png')  # Save the learning curve figure\n",
    "plt.show()"
   ]
  },
  {
   "cell_type": "markdown",
   "metadata": {},
   "source": [
    "## Save Model and Dataset\n",
    "### DVC Tracking\n",
    "Use DVC to track the datasets and models."
   ]
  },
  {
   "cell_type": "code",
   "execution_count": null,
   "metadata": {},
   "outputs": [],
   "source": [
    "# Initialize DVC if not already done\n",
    "!dvc init\n",
    "\n",
    "# Add dataset and model to DVC\n",
    "!dvc add datasets\n",
    "!dvc add models"
   ]
  },
  {
   "cell_type": "markdown",
   "metadata": {},
   "source": [
    "### Commit Changes\n",
    "Commit the changes to DVC to track versions."
   ]
  },
  {
   "cell_type": "code",
   "execution_count": null,
   "metadata": {},
   "outputs": [],
   "source": [
    "# Commit changes\n",
    "!git add .dvc .gitignore\n",
    "!git commit -m \"Track datasets and models with DVC\""
   ]
  },
  {
   "cell_type": "markdown",
   "metadata": {},
   "source": [
    "## Conclusion\n",
    "In this notebook, we generated a dataset of noisy card images, trained a model on the generated images, and plotted the learning curves. The models and datasets were saved in structured directories and tracked using DVC for version control.\n",
    "\n",
    "### Explanation of Each Section\n",
    "- **Setup**: Initializes the necessary libraries and configuration settings, including directories for datasets and models.\n",
    "- **Generate Dataset**: Loops through different noise levels to generate datasets, saving each in a separate folder.\n",
    "- **Train Model**: Builds and trains a model for each noise level, saving the model files with appropriate names.\n",
    "- **Plot Learning Curve**: Plots accuracy and loss curves for each noise level and saves the figure.\n",
    "- **Save Model and Dataset**: Shows how to use DVC to track datasets and models, including initializing DVC, adding files, and committing changes."
   ]
  }
 ],
 "metadata": {
  "kernelspec": {
   "display_name": "pokerbot39",
   "language": "python",
   "name": "python3"
  },
  "language_info": {
   "codemirror_mode": {
    "name": "ipython",
    "version": 3
   },
   "file_extension": ".py",
   "mimetype": "text/x-python",
   "name": "python",
   "nbconvert_exporter": "python",
   "pygments_lexer": "ipython3",
   "version": "3.9.19"
  }
 },
 "nbformat": 4,
 "nbformat_minor": 2
}
